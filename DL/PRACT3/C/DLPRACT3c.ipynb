{
  "nbformat": 4,
  "nbformat_minor": 0,
  "metadata": {
    "colab": {
      "name": "DLPRACT3c.ipynb",
      "provenance": [],
      "collapsed_sections": [],
      "authorship_tag": "ABX9TyOvpjOSMFN1dRXURjEIM9hb",
      "include_colab_link": true
    },
    "kernelspec": {
      "name": "python3",
      "display_name": "Python 3"
    },
    "language_info": {
      "name": "python"
    }
  },
  "cells": [
    {
      "cell_type": "markdown",
      "metadata": {
        "id": "view-in-github",
        "colab_type": "text"
      },
      "source": [
        "<a href=\"https://colab.research.google.com/github/simran-sharma29/MSC-IT-PARTII-SEM-3/blob/main/DL/PRACT3/C/DLPRACT3c.ipynb\" target=\"_parent\"><img src=\"https://colab.research.google.com/assets/colab-badge.svg\" alt=\"Open In Colab\"/></a>"
      ]
    },
    {
      "cell_type": "code",
      "metadata": {
        "id": "72IJattA25uV"
      },
      "source": [
        "import numpy as np\n",
        "\n",
        "np.random.seed(1)"
      ],
      "execution_count": 1,
      "outputs": []
    },
    {
      "cell_type": "code",
      "metadata": {
        "colab": {
          "base_uri": "https://localhost:8080/"
        },
        "id": "mCLi3Q2p3KHd",
        "outputId": "4b0172e3-8a0a-4409-bb25-b6f7d2f86f1f"
      },
      "source": [
        "# GRADED FUNCTION: zero_pad \n",
        "def zero_pad(X, pad): \n",
        "  \n",
        " X_pad = np.pad(X, ((0, 0), (pad, pad), (pad, pad), (0, 0)), 'constant', constant_values=0)   \n",
        " return X_pad \n",
        "np.random.seed(1) \n",
        "x = np.random.randn(4, 3, 3, 2) \n",
        "x_pad = zero_pad(x, 2) \n",
        "print (\"x.shape =\", x.shape) \n",
        "print (\"x_pad.shape =\", x_pad.shape) \n",
        "print (\"x[1,1] =\", x[1,1]) \n",
        "print (\"x_pad[1,1] =\", x_pad[1,1]) \n"
      ],
      "execution_count": 2,
      "outputs": [
        {
          "output_type": "stream",
          "name": "stdout",
          "text": [
            "x.shape = (4, 3, 3, 2)\n",
            "x_pad.shape = (4, 7, 7, 2)\n",
            "x[1,1] = [[ 0.90085595 -0.68372786]\n",
            " [-0.12289023 -0.93576943]\n",
            " [-0.26788808  0.53035547]]\n",
            "x_pad[1,1] = [[0. 0.]\n",
            " [0. 0.]\n",
            " [0. 0.]\n",
            " [0. 0.]\n",
            " [0. 0.]\n",
            " [0. 0.]\n",
            " [0. 0.]]\n"
          ]
        }
      ]
    },
    {
      "cell_type": "code",
      "metadata": {
        "colab": {
          "base_uri": "https://localhost:8080/"
        },
        "id": "X0Jwf6yY3O2Q",
        "outputId": "58330c54-e8ef-47e0-a202-ea2f014250b1"
      },
      "source": [
        "def conv_single_step(a_slice_prev, W, b): \n",
        " s = np.multiply(a_slice_prev, W) \n",
        " Z = np.sum(s) \n",
        " Z = Z + float(b) \n",
        " return Z \n",
        "np.random.seed(1)\n",
        "a_slice_prev = np.random.randn(4, 4, 3) \n",
        "W = np.random.randn(4, 4, 3) \n",
        "b = np.random.randn(1, 1, 1) \n",
        "Z = conv_single_step(a_slice_prev, W, b) \n",
        "print(\"Z =\", Z) \n"
      ],
      "execution_count": 3,
      "outputs": [
        {
          "output_type": "stream",
          "name": "stdout",
          "text": [
            "Z = -6.999089450680221\n"
          ]
        }
      ]
    },
    {
      "cell_type": "code",
      "metadata": {
        "colab": {
          "base_uri": "https://localhost:8080/"
        },
        "id": "fJ2V5ZEv3Sxj",
        "outputId": "50c6cdc7-d7f6-494e-9fd7-f00d10748be8"
      },
      "source": [
        "def conv_forward(A_prev, W, b, hparameters): \n",
        " (m, n_H_prev, n_W_prev, n_C_prev) = A_prev.shape \n",
        " (f, f, n_C_prev, n_C) = W.shape \n",
        " stride = hparameters['stride'] \n",
        " pad = hparameters['pad'] \n",
        " n_H = int((n_H_prev - f + 2 * pad) / stride) + 1 \n",
        " n_W = int((n_W_prev - f + 2 * pad) / stride) + 1 \n",
        " Z = np.zeros((m, n_H, n_W, n_C)) \n",
        " A_prev_pad = zero_pad(A_prev, pad) \n",
        "  \n",
        " for i in range(m):  \n",
        "  a_prev_pad = A_prev_pad[i]  \n",
        "  for h in range(n_H):  \n",
        "    for w in range(n_W):  \n",
        "      for c in range(n_C):  \n",
        "  \n",
        "        vert_start = h * stride \n",
        "        vert_end = vert_start + f \n",
        "    horiz_start = w * stride \n",
        "    horiz_end = horiz_start + f \n",
        "    a_slice_prev = a_prev_pad[vert_start:vert_end, horiz_start:horiz_end, :]  \n",
        "    Z[i, h, w, c] = conv_single_step(a_slice_prev, W[...,c], b[...,c])   \n",
        " assert(Z.shape == (m, n_H, n_W, n_C)) \n",
        " cache = (A_prev, W, b, hparameters) \n",
        " \n",
        " return Z, cache \n",
        "np.random.seed(1) \n",
        "A_prev = np.random.randn(10,4,4,3) \n",
        "W = np.random.randn(2,2,3,8) \n",
        "b = np.random.randn(1,1,1,8) \n",
        "hparameters = {\"pad\" : 2, \n",
        " \"stride\": 2} \n",
        "Z, cache_conv = conv_forward(A_prev, W, b, hparameters) \n",
        "print(\"Z's mean =\", np.mean(Z)) \n",
        "print(\"Z[3,2,1] =\", Z[3,2,1]) \n",
        "print(\"cache_conv[0][1][2][3] =\", cache_conv[0][1][2][3]) \n"
      ],
      "execution_count": 10,
      "outputs": [
        {
          "output_type": "stream",
          "name": "stdout",
          "text": [
            "Z's mean = -0.0021065632795891995\n",
            "Z[3,2,1] = [0. 0. 0. 0. 0. 0. 0. 0.]\n",
            "cache_conv[0][1][2][3] = [-0.20075807  0.18656139  0.41005165]\n"
          ]
        }
      ]
    }
  ]
}